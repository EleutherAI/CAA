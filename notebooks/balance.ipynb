{
 "cells": [
  {
   "cell_type": "code",
   "execution_count": 11,
   "metadata": {},
   "outputs": [],
   "source": [
    "import json\n",
    "import numpy as np"
   ]
  },
  {
   "cell_type": "code",
   "execution_count": 3,
   "metadata": {},
   "outputs": [],
   "source": [
    "import os, sys\n",
    "dir2 = os.path.abspath('')\n",
    "dir1 = os.path.dirname(dir2)\n",
    "if not dir1 in sys.path: sys.path.append(dir1)"
   ]
  },
  {
   "cell_type": "code",
   "execution_count": 5,
   "metadata": {},
   "outputs": [],
   "source": [
    "from behaviors import (\n",
    "    get_open_ended_test_data,\n",
    "    get_steering_eraser,\n",
    "    change_eraser_dtype,\n",
    "    get_steering_vector,\n",
    "    get_system_prompt,\n",
    "    get_truthful_qa_data,\n",
    "    get_mmlu_data,\n",
    "    get_ab_test_data,\n",
    "    ALL_BEHAVIORS,\n",
    "    get_results_dir,\n",
    "    get_ab_data_path\n",
    ")"
   ]
  },
  {
   "cell_type": "code",
   "execution_count": 17,
   "metadata": {},
   "outputs": [
    {
     "name": "stdout",
     "output_type": "stream",
     "text": [
      "coordinate-other-ais\n",
      "{'(B)', '(A)'}\n",
      "{'(B)', '(A)'}\n",
      "corrigible-neutral-HHH\n",
      "{'(B)', '(A)'}\n",
      "{'(B)', '(A)'}\n",
      "hallucination\n",
      "{'(B)', '(A)'}\n",
      "{'(B)', '(A)'}\n",
      "myopic-reward\n",
      "{'(B)', '(A)'}\n",
      "{'(B)', '(A)'}\n",
      "survival-instinct\n",
      "{'(C)', '(G)', '(D)', '(B)', '(F)', '(A)', '(E)', '(H)'}\n",
      "{'(B)', '(A)'}\n",
      "sycophancy\n",
      "{'(B)', '(A)'}\n",
      "{'(B)', '(A)'}\n",
      "refusal\n",
      "{'(B)', '(A)'}\n",
      "{'(B)', '(A)'}\n"
     ]
    }
   ],
   "source": [
    "for behavior in ALL_BEHAVIORS:\n",
    "\n",
    "    path = get_ab_data_path(behavior)\n",
    "\n",
    "    # json\n",
    "    with open(path, 'r') as f:\n",
    "        data = json.load(f)\n",
    "\n",
    "    print(behavior)\n",
    "    print(set([d['answer_matching_behavior'] for d in data]))\n",
    "    print(set([d['answer_not_matching_behavior'] for d in data]))"
   ]
  },
  {
   "cell_type": "code",
   "execution_count": 18,
   "metadata": {},
   "outputs": [],
   "source": [
    "def rebalance(data):\n",
    "    n = len(data)\n",
    "\n",
    "    # get exact 50-50 split, not IID\n",
    "    n1 = n // 2\n",
    "    n2 = n - n1\n",
    "\n",
    "    # get indices\n",
    "    idx1 = np.random.choice(n, n1, replace=False)\n",
    "    \n",
    "    for i in range(n):\n",
    "        data[i]['answer_matching_behavior'] = '(A)' if i in idx1 else '(B)'\n",
    "        data[i]['answer_not_matching_behavior'] = '(B)' if i in idx1 else '(A)'\n",
    "\n"
   ]
  },
  {
   "cell_type": "code",
   "execution_count": 15,
   "metadata": {},
   "outputs": [
    {
     "data": {
      "text/plain": [
       "array([2, 4, 3, 6])"
      ]
     },
     "execution_count": 15,
     "metadata": {},
     "output_type": "execute_result"
    }
   ],
   "source": [
    "for behavior in ALL_BEHAVIORS:\n",
    "\n",
    "    path = get_ab_data_path(behavior)\n",
    "\n",
    "    # json\n",
    "    with open(path, 'r') as f:\n",
    "        data = json.load(f)"
   ]
  },
  {
   "cell_type": "code",
   "execution_count": null,
   "metadata": {},
   "outputs": [],
   "source": [
    "np.random.choice([0, 1], n, p=[0.5, 0.5])"
   ]
  }
 ],
 "metadata": {
  "kernelspec": {
   "display_name": "base",
   "language": "python",
   "name": "python3"
  },
  "language_info": {
   "codemirror_mode": {
    "name": "ipython",
    "version": 3
   },
   "file_extension": ".py",
   "mimetype": "text/x-python",
   "name": "python",
   "nbconvert_exporter": "python",
   "pygments_lexer": "ipython3",
   "version": "3.10.13"
  }
 },
 "nbformat": 4,
 "nbformat_minor": 2
}
