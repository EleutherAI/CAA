{
 "cells": [
  {
   "cell_type": "code",
   "execution_count": 9,
   "metadata": {},
   "outputs": [],
   "source": [
    "DIR = \"/mnt/ssd-1/adam/CAA/results/\"\n",
    "\n",
    "# rename all files in all subdirectories (e.g. results/foo/bar.json) according to s/bar/baz/\n",
    "import os\n",
    "\n",
    "for root, dirs, files in os.walk(DIR):\n",
    "    for file in files:\n",
    "        if file.endswith(\".json\") and \"quadall\" in file:\n",
    "            newfile = file.replace(\"quadall\", \"qall\")\n",
    "            #os.rename(os.path.join(root, file), os.path.join(root, newfile))\n",
    "            print(root)\n",
    "            print(\"renamed\", file, \"\\nto\", newfile)"
   ]
  },
  {
   "cell_type": "code",
   "execution_count": null,
   "metadata": {},
   "outputs": [],
   "source": [
    "m/CAA/erasers/coordinate-other-ais/qall_layer_0_Llama-2-7b-chat-hf.pt'"
   ]
  }
 ],
 "metadata": {
  "kernelspec": {
   "display_name": "venv",
   "language": "python",
   "name": "python3"
  },
  "language_info": {
   "codemirror_mode": {
    "name": "ipython",
    "version": 3
   },
   "file_extension": ".py",
   "mimetype": "text/x-python",
   "name": "python",
   "nbconvert_exporter": "python",
   "pygments_lexer": "ipython3",
   "version": "3.11.5"
  }
 },
 "nbformat": 4,
 "nbformat_minor": 2
}
